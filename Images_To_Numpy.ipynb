{
 "cells": [
  {
   "cell_type": "code",
   "execution_count": null,
   "id": "71d9a056",
   "metadata": {},
   "outputs": [],
   "source": [
    "#import relevant packagaes\n",
    "import os\n",
    "import numpy as np\n",
    "import pandas as pd\n",
    "import matplotlib.pyplot as plt"
   ]
  },
  {
   "cell_type": "code",
   "execution_count": null,
   "id": "863eac51",
   "metadata": {},
   "outputs": [],
   "source": [
    "#%pip install scikit-image\n",
    "\n",
    "import skimage\n",
    "from skimage.transform import resize\n",
    "from pathlib import Path"
   ]
  },
  {
   "cell_type": "code",
   "execution_count": null,
   "id": "7168c77b",
   "metadata": {},
   "outputs": [],
   "source": [
    "#load data\n",
    "root = \"/Users/ritvikraina/Library/Mobile Documents/com~apple~CloudDocs/College/Courses/CS4465 Bioinformatics/Project/data/dataset3\"\n",
    "path = os.path.join(root,\"curated_data\")\n",
    "\n",
    "Classes = [\"Covid\",\"Normal\"]\n",
    "img_size = 224\n",
    "\n",
    "covid_train_path = os.path.join(path,\"Covid\")\n",
    "normal_train_path = os.path.join(path,\"Normal\")\n",
    "\n",
    "covid_train_img = list(Path(covid_train_path).glob(\"*.png\"))\n",
    "normal_train_img = list(Path(normal_train_path).glob(\"*.png\"))"
   ]
  },
  {
   "cell_type": "code",
   "execution_count": null,
   "id": "a140d836",
   "metadata": {},
   "outputs": [],
   "source": [
    "# To visualize the dataset\n",
    "train_num_normal = len(normal_train_img)\n",
    "train_num_covid = len(covid_train_img)\n",
    "\n",
    "print(\"Training Set:\")\n",
    "print(\"Number of Normal Lung X-rays: {}\".format(train_num_normal))\n",
    "print(\"Number of Lung X-rays with COVID: {}\".format(train_num_covid))\n",
    "print(\"Total number of images: {}\".format(train_num_normal+train_num_covid))"
   ]
  },
  {
   "cell_type": "code",
   "execution_count": null,
   "id": "2f19e235",
   "metadata": {},
   "outputs": [],
   "source": [
    "#vizualize the training distribution\n",
    "plt.pie(np.array([train_num_covid,train_num_normal]),labels=Classes)\n",
    "plt.show()"
   ]
  },
  {
   "cell_type": "code",
   "execution_count": null,
   "id": "31e02488",
   "metadata": {},
   "outputs": [],
   "source": [
    "#convert images to numpy array\n",
    "\n",
    "covid_np = np.empty((len(covid_train_img), img_size, img_size, 1), dtype=np.float32)\n",
    "normal_np = np.empty((len(normal_train_img), img_size, img_size, 1), dtype=np.float32)"
   ]
  },
  {
   "cell_type": "code",
   "execution_count": null,
   "id": "a7cbe32d",
   "metadata": {},
   "outputs": [],
   "source": [
    "#Covid\n",
    "for i, img_name in enumerate(covid_train_img):\n",
    "    try:\n",
    "        temp_image = img.imread(img_name)\n",
    "        img_resize = resize(temp_image, (img_size, img_size, 1), anti_aliasing=True)\n",
    "        covid_np[i] = img_resize\n",
    "    except:\n",
    "        continue\n",
    "    \n",
    "\n",
    "#Normal\n",
    "for i, img_name in enumerate(normal_train_img):\n",
    "    try:\n",
    "        temp_image = img.imread(img_name)\n",
    "        img_resize = resize(temp_image, (img_size, img_size, 1), anti_aliasing=True)\n",
    "        normal_np[i] = img_resize\n",
    "    \n",
    "    except:\n",
    "        continue"
   ]
  },
  {
   "cell_type": "code",
   "execution_count": null,
   "id": "5d7db398",
   "metadata": {},
   "outputs": [],
   "source": [
    "print(covid_np.shape)\n",
    "print(normal_np.shape)"
   ]
  },
  {
   "cell_type": "code",
   "execution_count": null,
   "id": "c01f990e",
   "metadata": {},
   "outputs": [],
   "source": [
    "np.save(os.path.join(root,\"Covid Images Array 224\"), covid_np, allow_pickle=False, fix_imports=False)\n",
    "np.save(\"Normal Images Array 224\", normal_np, allow_pickle=False, fix_imports=False)"
   ]
  }
 ],
 "metadata": {
  "kernelspec": {
   "display_name": "Python 3.9 (tensorflow)",
   "language": "python",
   "name": "tensorflow"
  },
  "language_info": {
   "codemirror_mode": {
    "name": "ipython",
    "version": 3
   },
   "file_extension": ".py",
   "mimetype": "text/x-python",
   "name": "python",
   "nbconvert_exporter": "python",
   "pygments_lexer": "ipython3",
   "version": "3.9.6"
  }
 },
 "nbformat": 4,
 "nbformat_minor": 5
}

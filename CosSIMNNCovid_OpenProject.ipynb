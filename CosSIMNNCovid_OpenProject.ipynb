{
  "cells": [
    {
      "cell_type": "markdown",
      "id": "b3545823",
      "metadata": {
        "id": "b3545823"
      },
      "source": [
        "# CS4465 Open Project - Sharpened Cosine Similarity\n",
        "\n",
        "Name: Ritvik Raina\n",
        "\n",
        "Student ID: 55828826\n",
        "\n",
        "Implementation of Sharpened Cosine Similarity as an alternative to Convolutions"
      ]
    },
    {
      "cell_type": "code",
      "execution_count": 1,
      "id": "e50e8578",
      "metadata": {
        "id": "e50e8578"
      },
      "outputs": [],
      "source": [
        "#code requires tensorflow 3.8\n",
        "#used collab rather than jupyter notebook\n",
        "\n",
        "#import relevant packages\n",
        "import os\n",
        "import pandas as pd\n",
        "import sklearn as sk\n",
        "import matplotlib.pyplot as plt\n",
        "import seaborn as sns\n",
        "import numpy as np\n",
        "\n",
        "import tensorflow.keras as keras\n",
        "import tensorflow as tf"
      ]
    },
    {
      "cell_type": "code",
      "execution_count": 2,
      "id": "edd1f0cf",
      "metadata": {
        "id": "edd1f0cf"
      },
      "outputs": [],
      "source": [
        "%matplotlib inline"
      ]
    },
    {
      "cell_type": "code",
      "source": [
        "from google.colab import drive\n",
        "drive.mount('/content/drive')"
      ],
      "metadata": {
        "colab": {
          "base_uri": "https://localhost:8080/"
        },
        "id": "H1-ArotqVSbS",
        "outputId": "4204cf16-09f3-4091-91c2-aed33a1f20ed"
      },
      "id": "H1-ArotqVSbS",
      "execution_count": 3,
      "outputs": [
        {
          "output_type": "stream",
          "name": "stdout",
          "text": [
            "Mounted at /content/drive\n"
          ]
        }
      ]
    },
    {
      "cell_type": "markdown",
      "id": "37333d7b",
      "metadata": {
        "id": "37333d7b"
      },
      "source": [
        "## Data Loading"
      ]
    },
    {
      "cell_type": "code",
      "execution_count": 4,
      "id": "b1bb6fb8",
      "metadata": {
        "id": "b1bb6fb8"
      },
      "outputs": [],
      "source": [
        "data = \"/content/drive/MyDrive/CS4465 PROJECT\""
      ]
    },
    {
      "cell_type": "code",
      "execution_count": 5,
      "id": "65a8ea61",
      "metadata": {
        "id": "65a8ea61"
      },
      "outputs": [],
      "source": [
        "Classes = [\"Normal\",\"Covid\"]\n",
        "\n",
        "#dataset - Normal and Covid"
      ]
    },
    {
      "cell_type": "code",
      "execution_count": 6,
      "id": "c975f905",
      "metadata": {
        "id": "c975f905"
      },
      "outputs": [],
      "source": [
        "#path to image numpy arrays\n",
        "normal_path = os.path.join(data,\"Normal Images Array.npy\")\n",
        "covid_path = os.path.join(data, \"Covid Images Array.npy\")"
      ]
    },
    {
      "cell_type": "code",
      "execution_count": 7,
      "id": "c33bc778",
      "metadata": {
        "id": "c33bc778"
      },
      "outputs": [],
      "source": [
        "#loading images array\n",
        "normal_img = np.load(normal_path)\n",
        "covid_img = np.load(covid_path)"
      ]
    },
    {
      "cell_type": "code",
      "execution_count": 8,
      "id": "bd1aba0a",
      "metadata": {
        "colab": {
          "base_uri": "https://localhost:8080/"
        },
        "id": "bd1aba0a",
        "outputId": "6f57a31c-d6d1-4c29-aca2-3f391f9186de"
      },
      "outputs": [
        {
          "output_type": "stream",
          "name": "stdout",
          "text": [
            "Number of Normal Lung X-rays: 6893\n",
            "Number of Lung X-rays with COVID: 7593\n",
            "Total number of images: 14486\n"
          ]
        }
      ],
      "source": [
        "num_normal = len(normal_img)\n",
        "num_covid = len(covid_img)\n",
        "\n",
        "\n",
        "print(\"Number of Normal Lung X-rays: {}\".format(num_normal))\n",
        "print(\"Number of Lung X-rays with COVID: {}\".format(num_covid))\n",
        "print(\"Total number of images: {}\".format(num_normal+num_covid))"
      ]
    },
    {
      "cell_type": "code",
      "execution_count": 9,
      "id": "70bfa37e",
      "metadata": {
        "id": "70bfa37e"
      },
      "outputs": [],
      "source": [
        "#define vairables\n",
        "BATCH = 16\n",
        "img_size = 128\n",
        "epochs = 10"
      ]
    },
    {
      "cell_type": "code",
      "execution_count": 10,
      "id": "09608085",
      "metadata": {
        "colab": {
          "base_uri": "https://localhost:8080/"
        },
        "id": "09608085",
        "outputId": "b9979d20-1f26-44f9-9baa-b5fa9d2c10ce"
      },
      "outputs": [
        {
          "output_type": "stream",
          "name": "stdout",
          "text": [
            "(14486, 128, 128, 1)\n",
            "(14486,)\n"
          ]
        }
      ],
      "source": [
        "#labeling as 1 for Covid and 0 for Normal\n",
        "c_copy = covid_img\n",
        "c_labels = [\"1\" for i in c_copy]\n",
        "n_copy = normal_img\n",
        "n_labels = [\"0\" for i in n_copy]\n",
        "\n",
        "\n",
        "x = np.concatenate([c_copy, n_copy])\n",
        "y = np.array((c_labels + n_labels), dtype=np.float32)\n",
        "print(x.shape)\n",
        "print(y.shape)"
      ]
    },
    {
      "cell_type": "code",
      "execution_count": 11,
      "id": "77b16ed4",
      "metadata": {
        "id": "77b16ed4"
      },
      "outputs": [],
      "source": [
        "#train_test_split\n",
        "from sklearn.model_selection import train_test_split\n",
        "\n",
        "x_train, x_test, y_train, y_test = train_test_split(x, y, test_size=0.2, random_state=101)"
      ]
    },
    {
      "cell_type": "code",
      "execution_count": 12,
      "id": "026e3560",
      "metadata": {
        "id": "026e3560"
      },
      "outputs": [],
      "source": [
        "# convert class vectors to binary class matrices\n",
        "y_train = keras.utils.to_categorical(y_train, 2)\n",
        "y_test = keras.utils.to_categorical(y_test, 2)"
      ]
    },
    {
      "cell_type": "markdown",
      "id": "f2a48ea0",
      "metadata": {
        "id": "f2a48ea0"
      },
      "source": [
        "## Training Model"
      ]
    },
    {
      "cell_type": "code",
      "execution_count": 13,
      "id": "3a76875b",
      "metadata": {
        "id": "3a76875b"
      },
      "outputs": [],
      "source": [
        "import math\n",
        "import tensorflow.keras.layers as layers"
      ]
    },
    {
      "cell_type": "code",
      "execution_count": 14,
      "id": "b76fec2e",
      "metadata": {
        "id": "b76fec2e"
      },
      "outputs": [],
      "source": [
        "#{pisoni2022sharpenedcossim,\n",
        "#title={Sharpened Cosine Distance as an Alternative for Convolutions}, \n",
        "#     author={Raphael Pisoni},\n",
        "#    year={2022},\n",
        "#   note={\\url{https://rpisoni.dev/posts/cossim-convolution/}},}\n",
        "\n",
        "class CosSim2D(layers.Layer):\n",
        "    def __init__(\n",
        "        self,\n",
        "        depthwise_separable=False,\n",
        "        epsilon=1e-12,\n",
        "        kernel=1,\n",
        "        padding='valid',\n",
        "        stride=1,\n",
        "        units=32,\n",
        "    ):\n",
        "        super(CosSim2D, self).__init__()\n",
        "\n",
        "        self.depthwise_separable = depthwise_separable\n",
        "        self.epsilon = epsilon\n",
        "        self.units = units\n",
        "        self.stride = stride\n",
        "\n",
        "        assert kernel in [1, 3, 5], \"kernel of this size not supported\"\n",
        "        self.kernel_size = kernel\n",
        "        if self.kernel_size == 1:\n",
        "            self.stack = lambda x: x\n",
        "        elif self.kernel_size == 3:\n",
        "            self.stack = self.stack3x3\n",
        "        elif self.kernel_size == 5:\n",
        "            self.stack = self.stack5x5\n",
        "\n",
        "        if padding == 'same':\n",
        "            self.pad = self.kernel_size // 2\n",
        "            self.pad_1 = 1\n",
        "            self.clip = 0\n",
        "        elif padding == 'valid':\n",
        "            self.pad = 0\n",
        "            self.pad_1 = 0\n",
        "            self.clip = self.kernel_size // 2\n",
        "\n",
        "    def build(self, input_shape):\n",
        "        self.in_shape = input_shape\n",
        "        self.out_y = math.ceil((self.in_shape[1] - 2*self.clip) / self.stride)\n",
        "        self.out_x = math.ceil((self.in_shape[2] - 2*self.clip) / self.stride)\n",
        "        self.flat_size = self.out_x * self.out_y\n",
        "        self.channels = self.in_shape[3]\n",
        "\n",
        "        if self.depthwise_separable:\n",
        "            self.w = self.add_weight(\n",
        "                shape=(1, tf.square(self.kernel_size), self.units),\n",
        "                initializer=\"glorot_uniform\",\n",
        "                name='w',\n",
        "                trainable=True,\n",
        "            )\n",
        "        else:\n",
        "            w_shape = (\n",
        "                1, self.channels * tf.square(self.kernel_size), self.units)\n",
        "            self.w = self.add_weight(\n",
        "                shape=w_shape,\n",
        "                initializer=\"glorot_uniform\",\n",
        "                name='w',\n",
        "                trainable=True,\n",
        "            )\n",
        "\n",
        "        p_init = tf.keras.initializers.Constant(value=2)\n",
        "        self.p = self.add_weight(\n",
        "            shape=(self.units,), initializer=p_init, trainable=True, name='p')\n",
        "\n",
        "    @tf.function\n",
        "    def l2_normal(self, x, axis=None, epsilon=1e-12):\n",
        "        square_sum = tf.reduce_sum(tf.square(x), axis, keepdims=True)\n",
        "        x_inv_norm = tf.sqrt(tf.maximum(square_sum, epsilon))\n",
        "        return x_inv_norm\n",
        "\n",
        "    @tf.function\n",
        "    def sigplus(self, x):\n",
        "        return tf.nn.sigmoid(x) * tf.nn.softplus(x)\n",
        "\n",
        "    @tf.function\n",
        "    def stack3x3(self, image):\n",
        "        x = tf.shape(image)[2]\n",
        "        y = tf.shape(image)[1]\n",
        "        stack = tf.stack([\n",
        "            # top row\n",
        "            tf.pad(image[:, :y - 1 - self.clip:, :x - 1 - self.clip, :], tf.constant([[0, 0], [self.pad, 0], [self.pad, 0], [0, 0]])) [:, ::self.stride, ::self.stride, :],\n",
        "            tf.pad(image[:, :y - 1 - self.clip, self.clip:x - self.clip, :], tf.constant([[0, 0], [self.pad, 0], [0, 0], [0, 0]])) [:, ::self.stride, ::self.stride, :],\n",
        "            tf.pad(image[:, :y - 1 - self.clip, 1 + self.clip:, :], tf.constant([[0, 0], [self.pad, 0], [0, self.pad], [0, 0]])) [:, ::self.stride, ::self.stride, :],\n",
        "\n",
        "            # middle row\n",
        "            tf.pad(image[:, self.clip:y - self.clip, :x - 1 - self.clip, :], tf.constant([[0, 0], [0, 0], [self.pad, 0], [0, 0]])) [:, ::self.stride, ::self.stride, :],\n",
        "            image[:, self.clip:y - self.clip:self.stride, self.clip:x - self.clip:self.stride, :],\n",
        "            tf.pad(image[:, self.clip:y - self.clip, 1 + self.clip:, :], tf.constant([[0, 0], [0, 0], [0, self.pad], [0, 0]])) [:, ::self.stride, ::self.stride, :],\n",
        "\n",
        "            # bottom row\n",
        "            tf.pad(image[:, 1 + self.clip:, :x - 1 - self.clip, :], tf.constant([[0, 0], [0, self.pad], [self.pad, 0], [0, 0]])) [:, ::self.stride, ::self.stride, :],\n",
        "            tf.pad(image[:, 1 + self.clip:, self.clip:x - self.clip, :], tf.constant([[0, 0], [0, self.pad], [0, 0], [0, 0]])) [:, ::self.stride, ::self.stride, :],\n",
        "            tf.pad(image[:, 1 + self.clip:, 1 + self.clip:, :], tf.constant([[0, 0], [0, self.pad], [0, self.pad], [0, 0]])) [:, ::self.stride, ::self.stride, :]\n",
        "        ], axis=3)\n",
        "        return stack\n",
        "\n",
        "    @tf.function\n",
        "    def stack5x5(self, image):\n",
        "        x = tf.shape(image)[2]\n",
        "        y = tf.shape(image)[1]\n",
        "        stack = tf.stack([\n",
        "            # Row 0 (top row)\n",
        "            tf.pad(image[:, :y - 2 - self.clip:, :x - 2 - self.clip, :], tf.constant([[0, 0], [self.pad, 0], [self.pad, 0], [0, 0]])) [:, ::self.stride, ::self.stride, :],\n",
        "            tf.pad(image[:, :y - 2 - self.clip:, 1:x - 1 - self.clip, :], tf.constant([[0, 0], [self.pad, 0], [self.pad_1, self.pad_1], [0, 0]])) [:, ::self.stride, ::self.stride, :],\n",
        "            tf.pad(image[:, :y - 2 - self.clip:, self.clip:x - self.clip, :], tf.constant([[0, 0], [self.pad, 0], [0, 0], [0, 0]])) [:, ::self.stride, ::self.stride, :],\n",
        "            tf.pad(image[:, :y - 2 - self.clip:, 1 + self.clip:-1, :], tf.constant([[0, 0], [self.pad, 0], [self.pad_1, self.pad_1], [0, 0]])) [:, ::self.stride, ::self.stride, :],\n",
        "            tf.pad(image[:, :y - 2 - self.clip:, 2 + self.clip: , :], tf.constant([[0, 0], [self.pad, 0], [0, self.pad], [0, 0]])) [:, ::self.stride, ::self.stride, :],\n",
        "\n",
        "            # Row 1\n",
        "            tf.pad(image[:, 1:y - 1 - self.clip:, :x - 2 - self.clip, :], tf.constant([[0, 0], [self.pad_1, self.pad_1], [self.pad, 0], [0, 0]])) [:, ::self.stride, ::self.stride, :],\n",
        "            tf.pad(image[:, 1:y - 1 - self.clip:, 1:x - 1 - self.clip, :], tf.constant([[0, 0], [self.pad_1, self.pad_1], [self.pad_1, self.pad_1], [0, 0]])) [:, ::self.stride, ::self.stride, :],\n",
        "            tf.pad(image[:, 1:y - 1 - self.clip:, self.clip:x - self.clip, :], tf.constant([[0, 0], [self.pad_1, self.pad_1], [0, 0], [0, 0]])) [:, ::self.stride, ::self.stride, :],\n",
        "            tf.pad(image[:, 1:y - 1 - self.clip:, 1 + self.clip:-1, :], tf.constant([[0, 0], [self.pad_1, self.pad_1], [self.pad_1, self.pad_1], [0, 0]])) [:, ::self.stride, ::self.stride, :],\n",
        "            tf.pad(image[:, 1:y - 1 - self.clip:, 2 + self.clip:, :], tf.constant([[0, 0], [self.pad_1, self.pad_1], [0, self.pad], [0, 0]])) [:, ::self.stride, ::self.stride, :],\n",
        "\n",
        "            # Row 2 (center row)\n",
        "            tf.pad(image[:, self.clip:y - self.clip, :x - 2 - self.clip, :], tf.constant([[0, 0], [0, 0], [self.pad, 0], [0, 0]])) [:, ::self.stride, ::self.stride, :],\n",
        "            tf.pad(image[:, self.clip:y - self.clip, 1:x - 1 - self.clip, :], tf.constant([[0, 0], [0, 0], [self.pad_1, self.pad_1], [0, 0]])) [:, ::self.stride, ::self.stride, :],\n",
        "            image[:, self.clip:y - self.clip, self.clip:x - self.clip, :][:, ::self.stride, ::self.stride, :],\n",
        "            tf.pad(image[:, self.clip:y - self.clip, 1 + self.clip:-1, :], tf.constant([[0, 0], [0, 0], [self.pad_1, self.pad_1], [0, 0]]))[:, ::self.stride, ::self.stride, :],\n",
        "            tf.pad(image[:, self.clip:y - self.clip, 2 + self.clip:, :], tf.constant([[0, 0], [0, 0], [0, self.pad], [0, 0]]))[:, ::self.stride, ::self.stride, :],\n",
        "\n",
        "            # Row 3\n",
        "            tf.pad(image[:, 1 + self.clip:-1, :x - 2 - self.clip, :], tf.constant([[0, 0], [self.pad_1, self.pad_1], [self.pad, 0], [0, 0]]))[:, ::self.stride, ::self.stride, :],\n",
        "            tf.pad(image[:, 1 + self.clip:-1, 1:x - 1 - self.clip, :], tf.constant([[0, 0], [self.pad_1, self.pad_1], [self.pad_1, self.pad_1], [0, 0]]))[:, ::self.stride, ::self.stride, :],\n",
        "            tf.pad(image[:, 1 + self.clip:-1, self.clip:x - self.clip, :], tf.constant([[0, 0], [self.pad_1, self.pad_1], [0, 0], [0, 0]]))[:, ::self.stride, ::self.stride, :],\n",
        "            tf.pad(image[:, 1 + self.clip:-1, 1 + self.clip:-1, :], tf.constant([[0, 0], [self.pad_1, self.pad_1], [self.pad_1, self.pad_1], [0, 0]]))[:, ::self.stride, ::self.stride, :],\n",
        "            tf.pad(image[:, 1 + self.clip:-1, 2 + self.clip:, :], tf.constant([[0, 0], [self.pad_1, self.pad_1], [0, self.pad], [0, 0]]))[:, ::self.stride, ::self.stride, :],\n",
        "\n",
        "            # Row 4 (bottom row)\n",
        "            tf.pad(image[:, 2 + self.clip:, :x - 2 - self.clip, :], tf.constant([[0, 0], [0, self.pad], [self.pad, 0], [0, 0]]))[:, ::self.stride, ::self.stride, :],\n",
        "            tf.pad(image[:, 2 + self.clip:, 1:x - 1 - self.clip, :], tf.constant([[0, 0], [0, self.pad], [self.pad_1, self.pad_1], [0, 0]]))[:, ::self.stride, ::self.stride, :],\n",
        "            tf.pad(image[:, 2 + self.clip:, self.clip:x - self.clip, :], tf.constant([[0, 0], [0, self.pad], [0, 0], [0, 0]]))[:, ::self.stride, ::self.stride, :],\n",
        "            tf.pad(image[:, 2 + self.clip:, 1 + self.clip:-1, :], tf.constant([[0, 0], [0, self.pad], [self.pad_1, self.pad_1], [0, 0]]))[:, ::self.stride, ::self.stride, :],\n",
        "            tf.pad(image[:, 2 + self.clip:, 2 + self.clip:, :], tf.constant([[0, 0], [0, self.pad], [0, self.pad], [0, 0]]))[:, ::self.stride, ::self.stride, :],\n",
        "        ], axis=3)\n",
        "        return stack\n",
        "\n",
        "    def call_body(self, inputs):\n",
        "        channels = tf.shape(inputs)[-1]\n",
        "        x = self.stack(inputs)\n",
        "        x = tf.reshape(\n",
        "            x, (-1, self.flat_size, channels * tf.square(self.kernel_size)))\n",
        "        x_norm = (self.l2_normal(x, axis=2, epsilon=self.epsilon))\n",
        "        w_norm = (self.l2_normal(self.w, axis=1, epsilon=self.epsilon))\n",
        "        x = tf.matmul(x / x_norm, self.w / w_norm)\n",
        "        sign = tf.sign(x)\n",
        "        x = tf.abs(x) + self.epsilon\n",
        "        x = tf.pow(x, self.sigplus(self.p))\n",
        "        x = sign * x\n",
        "        x = tf.reshape(x, (-1, self.out_y, self.out_x, self.units))\n",
        "        return x\n",
        "\n",
        "    @tf.function\n",
        "    def call(self, inputs, training=None):\n",
        "        if self.depthwise_separable:\n",
        "            channels = tf.shape(inputs)[-1]\n",
        "            x = tf.vectorized_map(\n",
        "                self.call_body,\n",
        "                tf.expand_dims(tf.transpose(inputs, (3,0,1,2)), axis=-1))\n",
        "            s = tf.shape(x)\n",
        "            x = tf.transpose(x, (1,2,3,4,0))\n",
        "            x = tf.reshape(\n",
        "                x, (-1, self.out_y, self.out_x, self.channels * self.units))\n",
        "            return x\n",
        "        else:\n",
        "            x = self.call_body(inputs)\n",
        "            return x"
      ]
    },
    {
      "cell_type": "code",
      "source": [
        "#{pisoni2022sharpenedcossim,\n",
        "#title={Sharpened Cosine Distance as an Alternative for Convolutions}, \n",
        " #     author={Raphael Pisoni},\n",
        "  #    year={2022},\n",
        "   #   note={\\url{https://rpisoni.dev/posts/cossim-convolution/}},}\n",
        "   \n",
        "class MaxAbsPool2D(layers.Layer):\n",
        "    \"\"\"\n",
        "    Similar to Max Pooling, except that the value with the largest magnitude\n",
        "    is preserved. -2 beats a 1.5.\n",
        "    \"\"\"\n",
        "    def __init__(self, pool_size, pad_to_fit=False):\n",
        "        super(MaxAbsPool2D, self).__init__()\n",
        "        self.pad = pad_to_fit\n",
        "        self.pool_size = pool_size\n",
        "\n",
        "    def compute_output_shape(self, in_shape):\n",
        "        if self.pad:\n",
        "            return (\n",
        "                in_shape[0],\n",
        "                tf.math.ceil(in_shape[1] / self.pool_size),\n",
        "                tf.math.ceil(in_shape[2] / self.pool_size),\n",
        "                in_shape[3])\n",
        "        return (\n",
        "            in_shape[0],\n",
        "            (in_shape[1] // self.pool_size),\n",
        "            (in_shape[2] // self.pool_size),\n",
        "            in_shape[3])\n",
        "\n",
        "    def compute_padding(self, in_shape):\n",
        "        mod_y = in_shape[1] % self.pool_size\n",
        "        y1 = mod_y // 2\n",
        "        y2 = mod_y - y1\n",
        "        mod_x = in_shape[2] % self.pool_size\n",
        "        x1 = mod_x // 2\n",
        "        x2 = mod_x - x1\n",
        "        self.padding = ((0,0), (y1, y2), (x1, x2), (0,0))\n",
        "\n",
        "    def build(self, input_shape):\n",
        "        self.in_shape = input_shape\n",
        "        self.out_shape = self.compute_output_shape(self.in_shape)\n",
        "        self.compute_padding(self.in_shape)\n",
        "\n",
        "    @tf.function\n",
        "    def stack(self, inputs):\n",
        "        if self.pad:\n",
        "            inputs = tf.pad(inputs, self.padding)\n",
        "        batch_size = tf.shape(inputs)[0]\n",
        "        max_height = (tf.shape(inputs)[1] // self.pool_size) * self.pool_size\n",
        "        max_width = (tf.shape(inputs)[2] // self.pool_size) * self.pool_size\n",
        "        stack = tf.stack(\n",
        "            [inputs[\n",
        "                :, i:max_height:self.pool_size, j:max_width:self.pool_size, :]\n",
        "                for i in range(self.pool_size)\n",
        "                for j in range(self.pool_size)],\n",
        "            axis=-1)\n",
        "        return stack\n",
        "\n",
        "    @tf.function\n",
        "    def call(self, inputs, training=None):\n",
        "        stacked = self.stack(inputs)\n",
        "        inds = tf.argmax(tf.abs(stacked), axis=-1, output_type=tf.int32)\n",
        "        ks = tf.shape(stacked)\n",
        "        idx = tf.stack([\n",
        "            *tf.meshgrid(\n",
        "                tf.range(0, ks[0]),\n",
        "                tf.range(0, ks[1]),\n",
        "                tf.range(0, ks[2]),\n",
        "                tf.range(0, ks[3]),\n",
        "                indexing='ij'\n",
        "            ), inds],\n",
        "            axis=-1)\n",
        "\n",
        "        x = tf.gather_nd(stacked, idx)\n",
        "        x = tf.reshape(x, (-1, *self.out_shape[1:]))\n",
        "        return x"
      ],
      "metadata": {
        "id": "6FJ0kQHpWdh5"
      },
      "id": "6FJ0kQHpWdh5",
      "execution_count": 15,
      "outputs": []
    },
    {
      "cell_type": "code",
      "execution_count": 16,
      "id": "851ddbe5",
      "metadata": {
        "id": "851ddbe5"
      },
      "outputs": [],
      "source": [
        "from tensorflow.keras.models import Sequential\n",
        "from tensorflow.keras.layers import Dense, Conv2D, Flatten, Dropout, MaxPool2D, InputLayer"
      ]
    },
    {
      "cell_type": "code",
      "execution_count": 17,
      "id": "0a6a7f3f",
      "metadata": {
        "colab": {
          "base_uri": "https://localhost:8080/"
        },
        "id": "0a6a7f3f",
        "outputId": "fccc8be1-29c7-486f-a3ae-9038a962ffbb"
      },
      "outputs": [
        {
          "output_type": "stream",
          "name": "stdout",
          "text": [
            "Model: \"sequential\"\n",
            "_________________________________________________________________\n",
            " Layer (type)                Output Shape              Param #   \n",
            "=================================================================\n",
            " cos_sim2d (CosSim2D)        (None, 128, 128, 16)      32        \n",
            "                                                                 \n",
            " cos_sim2d_1 (CosSim2D)      (None, 126, 126, 16)      2320      \n",
            "                                                                 \n",
            " max_abs_pool2d (MaxAbsPool2  (None, 63, 63, 16)       0         \n",
            " D)                                                              \n",
            "                                                                 \n",
            " cos_sim2d_2 (CosSim2D)      (None, 61, 61, 32)        4640      \n",
            "                                                                 \n",
            " cos_sim2d_3 (CosSim2D)      (None, 57, 57, 32)        25632     \n",
            "                                                                 \n",
            " max_abs_pool2d_1 (MaxAbsPoo  (None, 29, 29, 32)       0         \n",
            " l2D)                                                            \n",
            "                                                                 \n",
            " cos_sim2d_4 (CosSim2D)      (None, 25, 25, 64)        51264     \n",
            "                                                                 \n",
            " max_abs_pool2d_2 (MaxAbsPoo  (None, 13, 13, 64)       0         \n",
            " l2D)                                                            \n",
            "                                                                 \n",
            " flatten (Flatten)           (None, 10816)             0         \n",
            "                                                                 \n",
            " dense (Dense)               (None, 32)                346144    \n",
            "                                                                 \n",
            " dense_1 (Dense)             (None, 2)                 66        \n",
            "                                                                 \n",
            "=================================================================\n",
            "Total params: 430,098\n",
            "Trainable params: 430,098\n",
            "Non-trainable params: 0\n",
            "_________________________________________________________________\n"
          ]
        }
      ],
      "source": [
        "#instantiate\n",
        "model = Sequential([\n",
        "                    InputLayer(input_shape=(img_size,img_size,1)),\n",
        "                    CosSim2D(kernel=1, units=16, padding=\"valid\"),\n",
        "                    CosSim2D(kernel=3, units=16, padding=\"valid\"), #bottlenecking\n",
        "                    MaxAbsPool2D(2,True),\n",
        "\n",
        "                    CosSim2D(kernel=3, units=32),\n",
        "                    CosSim2D(kernel=5, units=32),\n",
        "                    MaxAbsPool2D(2,True),\n",
        "                    \n",
        "                    CosSim2D(kernel=5, units=64),\n",
        "                    MaxAbsPool2D(2,True),\n",
        "\n",
        "                    Flatten(),\n",
        "                    Dense(32, activation=None),\n",
        "                    Dense(2, activation=None),\n",
        "])\n",
        "\n",
        "model.summary()"
      ]
    },
    {
      "cell_type": "code",
      "source": [
        "#defining a model check point and saving the best weights\n",
        "checkpoint_path = 'training_3/cp.ckpt'\n",
        "checkpoint_dir = os.path.dirname(checkpoint_path)\n",
        "checkpoint = tf.keras.callbacks.ModelCheckpoint(\n",
        "    filepath=checkpoint_dir,\n",
        "    save_weights_only=True,\n",
        "    monitor='val_accuracy',\n",
        "    save_best_only=True)"
      ],
      "metadata": {
        "id": "llDWpROrfnXt"
      },
      "id": "llDWpROrfnXt",
      "execution_count": 18,
      "outputs": []
    },
    {
      "cell_type": "code",
      "source": [
        "lr = 0.05\n",
        "label_smoothing = 0.3"
      ],
      "metadata": {
        "id": "VvEgLPBsftS3"
      },
      "id": "VvEgLPBsftS3",
      "execution_count": 19,
      "outputs": []
    },
    {
      "cell_type": "code",
      "source": [
        "#optimze the learning rate\n",
        "def get_lr_metric(optimizer):\n",
        "    def lr(y_true, y_pred):\n",
        "        return optimizer._decayed_lr(tf.float32)\n",
        "    return lr\n",
        "\n",
        "optimizer = tf.keras.optimizers.Adam(learning_rate=lr)\n",
        "loss = tf.keras.losses.CategoricalCrossentropy(\n",
        "    from_logits=True, label_smoothing=label_smoothing)"
      ],
      "metadata": {
        "id": "BuakqMvtfwsk"
      },
      "id": "BuakqMvtfwsk",
      "execution_count": 20,
      "outputs": []
    },
    {
      "cell_type": "code",
      "source": [
        "model.compile(loss=loss,optimizer=optimizer,\n",
        "    metrics=[get_lr_metric(optimizer), \"accuracy\"],\n",
        "    run_eagerly=False)"
      ],
      "metadata": {
        "id": "t_szITnyf1iC"
      },
      "id": "t_szITnyf1iC",
      "execution_count": 21,
      "outputs": []
    },
    {
      "cell_type": "code",
      "source": [
        "#training the model\n",
        "results_history = model.fit(x_train, y_train,\n",
        "                            batch_size=32,\n",
        "                            epochs=epochs,\n",
        "                            shuffle=True,\n",
        "                            callbacks=[checkpoint],\n",
        "                            validation_data=(x_test, y_test))"
      ],
      "metadata": {
        "id": "4eQQVsPbZD4G",
        "colab": {
          "base_uri": "https://localhost:8080/"
        },
        "outputId": "17d77a09-f632-412a-c6ce-7522b62a1425"
      },
      "id": "4eQQVsPbZD4G",
      "execution_count": 22,
      "outputs": [
        {
          "output_type": "stream",
          "name": "stdout",
          "text": [
            "Epoch 1/10\n",
            "363/363 [==============================] - 194s 510ms/step - loss: 2.2504 - lr: 0.0500 - accuracy: 0.5366 - val_loss: 0.6552 - val_lr: 0.0500 - val_accuracy: 0.5280\n",
            "Epoch 2/10\n",
            "363/363 [==============================] - 185s 510ms/step - loss: 0.6079 - lr: 0.0500 - accuracy: 0.7921 - val_loss: 0.5953 - val_lr: 0.0500 - val_accuracy: 0.8023\n",
            "Epoch 3/10\n",
            "363/363 [==============================] - 184s 508ms/step - loss: 0.5970 - lr: 0.0500 - accuracy: 0.8033 - val_loss: 0.5932 - val_lr: 0.0500 - val_accuracy: 0.8006\n",
            "Epoch 4/10\n",
            "363/363 [==============================] - 183s 505ms/step - loss: 0.5953 - lr: 0.0500 - accuracy: 0.8066 - val_loss: 0.5909 - val_lr: 0.0500 - val_accuracy: 0.8081\n",
            "Epoch 5/10\n",
            "363/363 [==============================] - 184s 506ms/step - loss: 0.5946 - lr: 0.0500 - accuracy: 0.8103 - val_loss: 0.5926 - val_lr: 0.0500 - val_accuracy: 0.8209\n",
            "Epoch 6/10\n",
            "363/363 [==============================] - 183s 505ms/step - loss: 0.5942 - lr: 0.0500 - accuracy: 0.8150 - val_loss: 0.5906 - val_lr: 0.0500 - val_accuracy: 0.8171\n",
            "Epoch 7/10\n",
            "363/363 [==============================] - 183s 505ms/step - loss: 0.5930 - lr: 0.0500 - accuracy: 0.8167 - val_loss: 0.5879 - val_lr: 0.0500 - val_accuracy: 0.8209\n",
            "Epoch 8/10\n",
            "363/363 [==============================] - 183s 505ms/step - loss: 0.5918 - lr: 0.0500 - accuracy: 0.8187 - val_loss: 0.5865 - val_lr: 0.0500 - val_accuracy: 0.8216\n",
            "Epoch 9/10\n",
            "363/363 [==============================] - 183s 506ms/step - loss: 0.5925 - lr: 0.0500 - accuracy: 0.8192 - val_loss: 0.5864 - val_lr: 0.0500 - val_accuracy: 0.8226\n",
            "Epoch 10/10\n",
            "363/363 [==============================] - 183s 504ms/step - loss: 0.5896 - lr: 0.0500 - accuracy: 0.8201 - val_loss: 0.5911 - val_lr: 0.0500 - val_accuracy: 0.8230\n"
          ]
        }
      ]
    },
    {
      "cell_type": "code",
      "execution_count": 23,
      "id": "5202ac0f",
      "metadata": {
        "colab": {
          "base_uri": "https://localhost:8080/",
          "height": 499
        },
        "id": "5202ac0f",
        "outputId": "329f6724-f525-4b6b-9185-89aaea11a82e"
      },
      "outputs": [
        {
          "output_type": "display_data",
          "data": {
            "text/plain": [
              "<Figure size 576x576 with 2 Axes>"
            ],
            "image/png": "[encoded data removed]"
          },
          "metadata": {
            "needs_background": "light"
          }
        }
      ],
      "source": [
        "#VISUALIZE the training accuracy and loss over the epochs\n",
        "\n",
        "acc = results_history.history['accuracy']\n",
        "val_acc = results_history.history['val_accuracy']\n",
        "\n",
        "loss = results_history.history['loss']\n",
        "val_loss = results_history.history['val_loss']\n",
        "\n",
        "epochs_range = range(epochs)\n",
        "\n",
        "plt.figure(figsize=(8, 8))\n",
        "plt.subplot(1, 2, 1)\n",
        "plt.plot(epochs_range, acc, label='Training Accuracy')\n",
        "plt.plot(epochs_range, val_acc, label='Validation Accuracy')\n",
        "plt.legend(loc='lower right')\n",
        "plt.title('Training and Validation Accuracy')\n",
        "\n",
        "plt.subplot(1, 2, 2)\n",
        "plt.plot(epochs_range, loss, label='Training Loss')\n",
        "plt.plot(epochs_range, val_loss, label='Validation Loss')\n",
        "plt.legend(loc='upper right')\n",
        "plt.title('Training and Validation Loss')\n",
        "plt.show()"
      ]
    },
    {
      "cell_type": "code",
      "source": [
        "model.load_weights(checkpoint_dir)\n",
        "evaluation_results = model.evaluate(x_test, y_test)\n",
        "print(f\"test accuracy: {evaluation_results[2]:.04}\")\n",
        "print(f\"loss on test data: {evaluation_results[0]:.04}\")"
      ],
      "metadata": {
        "colab": {
          "base_uri": "https://localhost:8080/"
        },
        "id": "DYUGWcXqf5A7",
        "outputId": "7db25431-c980-4867-bade-acaa4a0044ca"
      },
      "id": "DYUGWcXqf5A7",
      "execution_count": 24,
      "outputs": [
        {
          "output_type": "stream",
          "name": "stdout",
          "text": [
            "91/91 [==============================] - 18s 194ms/step - loss: 0.5911 - lr: 0.0500 - accuracy: 0.8230\n",
            "test accuracy: 0.823\n",
            "loss on test data: 0.5911\n"
          ]
        }
      ]
    },
    {
      "cell_type": "code",
      "source": [
        "x_train, x_test, y_train, y_test = train_test_split(x, y, test_size=0.2, random_state=101)\n",
        "#train test split again, because model.predict() \n",
        "#gives an error with binary class matrices\n",
        "\n",
        "y_pred = model.predict(x_test)\n",
        "predicted = np.argmax(y_pred, axis=-1)\n",
        "\n",
        "from sklearn.metrics import classification_report, confusion_matrix\n",
        "\n",
        "print(classification_report(y_test,predicted))"
      ],
      "metadata": {
        "colab": {
          "base_uri": "https://localhost:8080/"
        },
        "id": "lXj3n0GrmuwD",
        "outputId": "fcf79903-7be7-4f10-ba40-b4e1586a84f1"
      },
      "id": "lXj3n0GrmuwD",
      "execution_count": 26,
      "outputs": [
        {
          "output_type": "stream",
          "name": "stdout",
          "text": [
            "              precision    recall  f1-score   support\n",
            "\n",
            "         0.0       0.87      0.74      0.80      1364\n",
            "         1.0       0.79      0.90      0.84      1534\n",
            "\n",
            "    accuracy                           0.82      2898\n",
            "   macro avg       0.83      0.82      0.82      2898\n",
            "weighted avg       0.83      0.82      0.82      2898\n",
            "\n"
          ]
        }
      ]
    },
    {
      "cell_type": "code",
      "source": [
        "# Plot the confusion matrix\n",
        "plt.figure(figsize=(5,5))\n",
        "sns.heatmap(confusion_matrix(y_test, predicted, normalize='true'),\n",
        "            fmt='.1%',\n",
        "            annot=True,\n",
        "            cmap=\"Blues\",\n",
        "            xticklabels=[\"Covid\",\"Normal\"],\n",
        "            yticklabels=[\"Covid\",\"Normal\"],\n",
        "            annot_kws={\"size\": 14})\n",
        "plt.title('Normalized Confusion Matrix', {'fontsize':18})\n",
        "plt.yticks(np.arange(2)+0.5,rotation=0, fontsize=\"12\", va=\"center\")\n",
        "plt.xticks(np.arange(2)+0.5,rotation=0, fontsize=\"12\", va=\"center\")\n",
        "plt.show()"
      ],
      "metadata": {
        "id": "eWGz6mxojCZF",
        "colab": {
          "base_uri": "https://localhost:8080/",
          "height": 336
        },
        "outputId": "00c3163b-9ab6-4f01-c071-2f50e78fc3ac"
      },
      "id": "eWGz6mxojCZF",
      "execution_count": 27,
      "outputs": [
        {
          "output_type": "display_data",
          "data": {
            "text/plain": [
              "<Figure size 360x360 with 2 Axes>"
            ],
            "image/png": "[encoded data removed]"
          },
          "metadata": {
            "needs_background": "light"
          }
        }
      ]
    },
    {
      "cell_type": "code",
      "source": [
        ""
      ],
      "metadata": {
        "id": "UsfCmrNOqvGI"
      },
      "id": "UsfCmrNOqvGI",
      "execution_count": null,
      "outputs": []
    }
  ],
  "metadata": {
    "kernelspec": {
      "display_name": "Python 3.9 (tensorflow)",
      "language": "python",
      "name": "tensorflow"
    },
    "language_info": {
      "codemirror_mode": {
        "name": "ipython",
        "version": 3
      },
      "file_extension": ".py",
      "mimetype": "text/x-python",
      "name": "python",
      "nbconvert_exporter": "python",
      "pygments_lexer": "ipython3",
      "version": "3.9.6"
    },
    "colab": {
      "name": "Copy of CosSIMNNCovid_OpenProject.ipynb",
      "provenance": []
    },
    "accelerator": "GPU"
  },
  "nbformat": 4,
  "nbformat_minor": 5
}